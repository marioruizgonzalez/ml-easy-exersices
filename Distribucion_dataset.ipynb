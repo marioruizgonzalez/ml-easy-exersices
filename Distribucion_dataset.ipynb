{
  "nbformat": 4,
  "nbformat_minor": 0,
  "metadata": {
    "colab": {
      "provenance": [],
      "authorship_tag": "ABX9TyMe+XOMrDpZ9inyTv1uTtLm",
      "include_colab_link": true
    },
    "kernelspec": {
      "name": "python3",
      "display_name": "Python 3"
    },
    "language_info": {
      "name": "python"
    }
  },
  "cells": [
    {
      "cell_type": "markdown",
      "metadata": {
        "id": "view-in-github",
        "colab_type": "text"
      },
      "source": [
        "<a href=\"https://colab.research.google.com/github/marioruizgonzalez/ml-easy-exersices/blob/main/Distribucion_dataset.ipynb\" target=\"_parent\"><img src=\"https://colab.research.google.com/assets/colab-badge.svg\" alt=\"Open In Colab\"/></a>"
      ]
    },
    {
      "cell_type": "code",
      "execution_count": null,
      "metadata": {
        "id": "XGEJoU1zd8g7"
      },
      "outputs": [],
      "source": [
        "import os\n",
        "import zipfile\n",
        "\n",
        "local_zip = \"dataset.zip\"\n",
        "zip_ref = zipfile.ZipFile(local_zip, \"r\")\n",
        "zip_ref.extractall(\"dataset\")\n",
        "zip_ref.close()"
      ]
    },
    {
      "cell_type": "code",
      "source": [
        "path = \"dataset/dataset_filtrado\"\n",
        "content = os.listdir(path)"
      ],
      "metadata": {
        "id": "KAgC_VoAerqg"
      },
      "execution_count": null,
      "outputs": []
    },
    {
      "cell_type": "code",
      "source": [
        "content"
      ],
      "metadata": {
        "colab": {
          "base_uri": "https://localhost:8080/"
        },
        "id": "M8_RW_JgfBqT",
        "outputId": "26c2ea76-f6ec-4e6d-f85c-f0474985130e"
      },
      "execution_count": null,
      "outputs": [
        {
          "output_type": "execute_result",
          "data": {
            "text/plain": [
              "['486107bbf0.jpg',\n",
              " '1180fcd71f.jpg',\n",
              " 'e9379064f8.jpg',\n",
              " '8e933395c2.jpg',\n",
              " 'cf8db02eac.jpg',\n",
              " '93407ba6ac.jpg',\n",
              " '37e9f4c722.jpg',\n",
              " 'd01c4bbb38.jpg',\n",
              " '7490c9ba04.jpg',\n",
              " 'c4054a8f2c.jpg',\n",
              " '38073088aa.jpg',\n",
              " 'abdbb7257d.jpg',\n",
              " '66d55e26e2.jpg',\n",
              " 'b59018d131.jpg',\n",
              " '0414eb4d03.jpg',\n",
              " '39339a1089.jpg',\n",
              " 'e79711e10f.jpg',\n",
              " '2b37a718bc.jpg',\n",
              " 'f8a2cc7848.jpg',\n",
              " '18cf3b73b6.jpg',\n",
              " 'e4927496c4.jpg',\n",
              " '530a817c7a.jpg',\n",
              " '0c535fcdfa.jpg',\n",
              " 'f74248c57f.jpg',\n",
              " '6450b21594.jpg',\n",
              " 'ea2cb5917b.jpg',\n",
              " '636e60da4d.jpg',\n",
              " '89c26158c4.jpg',\n",
              " '34db31dbb7.jpg',\n",
              " '3ec8255ddd.jpg',\n",
              " '6f65ac7a0a.jpg',\n",
              " 'e22a1fc8c5.jpg',\n",
              " '744ca71f5a.jpg',\n",
              " 'ea8ce9da21.jpg',\n",
              " 'c554e9b7b4.jpg',\n",
              " '2fdd9eb661.jpg',\n",
              " 'cbb99fc122.jpg',\n",
              " '533dd3ae49.jpg',\n",
              " '95614aebd9.jpg',\n",
              " 'b22ad30e1b.jpg',\n",
              " '576c712438.jpg',\n",
              " '717e612946.jpg',\n",
              " '007d086a0d.jpg',\n",
              " '07ffa35d1f.jpg',\n",
              " '3b2d25d42c.jpg',\n",
              " 'e02950195f.jpg',\n",
              " '5cc8e6c42d.jpg',\n",
              " '2c3ae2799b.jpg',\n",
              " '53f2146ec4.jpg',\n",
              " '8a98fca468.jpg',\n",
              " '2efb6c3c82.jpg',\n",
              " '2feaa7dff6.jpg',\n",
              " '2c7120c43a.jpg',\n",
              " 'bf5b9af373.jpg',\n",
              " '4848bc97c4.jpg',\n",
              " '42e14b904b.jpg',\n",
              " 'fc15988c9a.jpg']"
            ]
          },
          "metadata": {},
          "execution_count": 5
        }
      ]
    },
    {
      "cell_type": "code",
      "source": [
        "path_general = \"datasetFinal\"\n",
        "path_train = \"{}/train\".format(path_general)\n",
        "path_test = \"{}/test\".format(path_general)\n",
        "\n",
        "os.mkdir(path_general)\n",
        "os.mkdir(path_train)\n",
        "os.mkdir(path_test)"
      ],
      "metadata": {
        "id": "S9iNEMizfE-l"
      },
      "execution_count": null,
      "outputs": []
    },
    {
      "cell_type": "code",
      "source": [
        "import random\n",
        "import shutil\n",
        "\n",
        "train = 0.7\n",
        "for nCount in range(int(len(content)*train)):\n",
        "  random_choice_img = random.choice(content)\n",
        "  random_choice_img_abs = \"{}/{}\".format(path, random_choice_img)\n",
        "  target_img = \"{}/{}\".format(path_train, random_choice_img)\n",
        "  shutil.copyfile(random_choice_img_abs, target_img)\n",
        "  content.remove(random_choice_img)"
      ],
      "metadata": {
        "id": "y0LIJKMFgtn0"
      },
      "execution_count": null,
      "outputs": []
    },
    {
      "cell_type": "code",
      "source": [
        "for img in content:\n",
        "  random_choice_img_abs = \"{}/{}\".format(path, img)\n",
        "  target_img = \"{}/{}\".format(path_test, img)\n",
        "  shutil.copyfile(random_choice_img_abs, target_img)"
      ],
      "metadata": {
        "id": "FfnZyZ5MibOP"
      },
      "execution_count": null,
      "outputs": []
    },
    {
      "cell_type": "code",
      "source": [
        "!zip -r /content/datasetFinal.zip /content/datasetFinal"
      ],
      "metadata": {
        "colab": {
          "base_uri": "https://localhost:8080/"
        },
        "id": "5odVRWB_jIiA",
        "outputId": "4da5bdfa-8fb4-4626-9698-33e3e54203fc"
      },
      "execution_count": null,
      "outputs": [
        {
          "output_type": "stream",
          "name": "stdout",
          "text": [
            "  adding: content/datasetFinal/ (stored 0%)\n",
            "  adding: content/datasetFinal/test/ (stored 0%)\n",
            "  adding: content/datasetFinal/test/486107bbf0.jpg (deflated 0%)\n",
            "  adding: content/datasetFinal/test/cf8db02eac.jpg (deflated 1%)\n",
            "  adding: content/datasetFinal/test/38073088aa.jpg (deflated 3%)\n",
            "  adding: content/datasetFinal/test/66d55e26e2.jpg (deflated 0%)\n",
            "  adding: content/datasetFinal/test/0414eb4d03.jpg (deflated 3%)\n",
            "  adding: content/datasetFinal/test/39339a1089.jpg (deflated 0%)\n",
            "  adding: content/datasetFinal/test/e79711e10f.jpg (deflated 2%)\n",
            "  adding: content/datasetFinal/test/f8a2cc7848.jpg (deflated 3%)\n",
            "  adding: content/datasetFinal/test/ea2cb5917b.jpg (deflated 3%)\n",
            "  adding: content/datasetFinal/test/636e60da4d.jpg (deflated 5%)\n",
            "  adding: content/datasetFinal/test/34db31dbb7.jpg (deflated 4%)\n",
            "  adding: content/datasetFinal/test/6f65ac7a0a.jpg (deflated 0%)\n",
            "  adding: content/datasetFinal/test/ea8ce9da21.jpg (deflated 0%)\n",
            "  adding: content/datasetFinal/test/533dd3ae49.jpg (deflated 0%)\n",
            "  adding: content/datasetFinal/test/b22ad30e1b.jpg (deflated 0%)\n",
            "  adding: content/datasetFinal/test/07ffa35d1f.jpg (deflated 1%)\n",
            "  adding: content/datasetFinal/test/2c3ae2799b.jpg (deflated 0%)\n",
            "  adding: content/datasetFinal/test/2feaa7dff6.jpg (deflated 3%)\n",
            "  adding: content/datasetFinal/train/ (stored 0%)\n",
            "  adding: content/datasetFinal/train/1180fcd71f.jpg (deflated 1%)\n",
            "  adding: content/datasetFinal/train/e9379064f8.jpg (deflated 0%)\n",
            "  adding: content/datasetFinal/train/8e933395c2.jpg (deflated 0%)\n",
            "  adding: content/datasetFinal/train/93407ba6ac.jpg (deflated 0%)\n",
            "  adding: content/datasetFinal/train/37e9f4c722.jpg (deflated 5%)\n",
            "  adding: content/datasetFinal/train/d01c4bbb38.jpg (deflated 1%)\n",
            "  adding: content/datasetFinal/train/7490c9ba04.jpg (deflated 0%)\n",
            "  adding: content/datasetFinal/train/c4054a8f2c.jpg (deflated 2%)\n",
            "  adding: content/datasetFinal/train/abdbb7257d.jpg (deflated 1%)\n",
            "  adding: content/datasetFinal/train/b59018d131.jpg (deflated 4%)\n",
            "  adding: content/datasetFinal/train/2b37a718bc.jpg (deflated 0%)\n",
            "  adding: content/datasetFinal/train/18cf3b73b6.jpg (deflated 1%)\n",
            "  adding: content/datasetFinal/train/e4927496c4.jpg (deflated 4%)\n",
            "  adding: content/datasetFinal/train/530a817c7a.jpg (deflated 0%)\n",
            "  adding: content/datasetFinal/train/0c535fcdfa.jpg (deflated 0%)\n",
            "  adding: content/datasetFinal/train/f74248c57f.jpg (deflated 0%)\n",
            "  adding: content/datasetFinal/train/6450b21594.jpg (deflated 1%)\n",
            "  adding: content/datasetFinal/train/89c26158c4.jpg (deflated 1%)\n",
            "  adding: content/datasetFinal/train/3ec8255ddd.jpg (deflated 0%)\n",
            "  adding: content/datasetFinal/train/e22a1fc8c5.jpg (deflated 0%)\n",
            "  adding: content/datasetFinal/train/744ca71f5a.jpg (deflated 0%)\n",
            "  adding: content/datasetFinal/train/c554e9b7b4.jpg (deflated 0%)\n",
            "  adding: content/datasetFinal/train/2fdd9eb661.jpg (deflated 0%)\n",
            "  adding: content/datasetFinal/train/cbb99fc122.jpg (deflated 0%)\n",
            "  adding: content/datasetFinal/train/95614aebd9.jpg (deflated 3%)\n",
            "  adding: content/datasetFinal/train/576c712438.jpg (deflated 1%)\n",
            "  adding: content/datasetFinal/train/717e612946.jpg (deflated 3%)\n",
            "  adding: content/datasetFinal/train/007d086a0d.jpg (deflated 5%)\n",
            "  adding: content/datasetFinal/train/3b2d25d42c.jpg (deflated 0%)\n",
            "  adding: content/datasetFinal/train/e02950195f.jpg (deflated 0%)\n",
            "  adding: content/datasetFinal/train/5cc8e6c42d.jpg (deflated 1%)\n",
            "  adding: content/datasetFinal/train/53f2146ec4.jpg (deflated 0%)\n",
            "  adding: content/datasetFinal/train/8a98fca468.jpg (deflated 1%)\n",
            "  adding: content/datasetFinal/train/2efb6c3c82.jpg (deflated 5%)\n",
            "  adding: content/datasetFinal/train/2c7120c43a.jpg (deflated 1%)\n",
            "  adding: content/datasetFinal/train/bf5b9af373.jpg (deflated 3%)\n",
            "  adding: content/datasetFinal/train/4848bc97c4.jpg (deflated 0%)\n",
            "  adding: content/datasetFinal/train/42e14b904b.jpg (deflated 3%)\n",
            "  adding: content/datasetFinal/train/fc15988c9a.jpg (deflated 4%)\n"
          ]
        }
      ]
    }
  ]
}